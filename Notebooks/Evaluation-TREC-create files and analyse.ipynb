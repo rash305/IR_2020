{
 "cells": [
  {
   "cell_type": "markdown",
   "metadata": {
    "id": "gxeZxiJaV0SY"
   },
   "source": [
    "# Transforms query ranking to TREC eval style\n",
    "\n",
    "#### Query ranking format:\n",
    "    query-id    ranking                   scores\n",
    "\n",
    "For example:\n",
    "\n",
    "    PLAIN_1     [MED-1, MED-2, MED-7]     [500, 300, 230]\n",
    "    PLAIN_2     [MED-7, MED-3, MED-2]     [540, 220, 170]\n",
    "\n",
    "#### TREC format:\n",
    "    query-id  Q0  document-id  rank  score  STANDARD\n",
    "\n",
    "For example:\n",
    "\n",
    "    PLAIN_1   Q0  MED-1        1     500    RUN_1\n",
    "    PLAIN_1   Q0  MED-2        2     300    RUN_1\n",
    "    PLAIN_1   Q0  MED-3        3     230    RUN_1\n",
    "    PLAIN_2   Q0  MED-7        1     540    RUN_1\n",
    "    PLAIN_2   Q0  MED-3        2     220    RUN_1\n",
    "    PLAIN_2   Q0  MED-2        3     170    RUN_1\n"
   ]
  },
  {
   "cell_type": "markdown",
   "metadata": {
    "id": "zeEXO59aY-JG"
   },
   "source": [
    "## Import libraries"
   ]
  },
  {
   "cell_type": "code",
   "execution_count": 351,
   "metadata": {
    "id": "-nYKvg4qVkAt"
   },
   "outputs": [],
   "source": [
    "import pandas as pd\n",
    "from tqdm import tqdm\n",
    "from subprocess import check_output as run_program\n",
    "import re\n"
   ]
  },
  {
   "cell_type": "markdown",
   "metadata": {
    "id": "1o7UFlo4i5zi"
   },
   "source": [
    "# Mount google drive to get data\n",
    "(just for Marit)"
   ]
  },
  {
   "cell_type": "code",
   "execution_count": 352,
   "metadata": {
    "colab": {
     "base_uri": "https://localhost:8080/"
    },
    "executionInfo": {
     "elapsed": 1123,
     "status": "ok",
     "timestamp": 1608238032913,
     "user": {
      "displayName": "Marit Hagens",
      "photoUrl": "",
      "userId": "00896192743889461878"
     },
     "user_tz": -60
    },
    "id": "7PBq7m2LjAdx",
    "outputId": "bd5a0ec0-de5b-4504-c30c-70587a5541b3"
   },
   "outputs": [],
   "source": [
    "# import os\n",
    "# from google.colab import drive\n",
    "# drive.mount('/content/gdrive');\n",
    "# os.chdir('gdrive/My Drive/Information Retrieval/Information Retrieval Project/Notebooks')\n",
    "# os.listdir()"
   ]
  },
  {
   "cell_type": "markdown",
   "metadata": {
    "id": "Mno2BSpCZCRB"
   },
   "source": [
    "## Make tranformation function"
   ]
  },
  {
   "cell_type": "code",
   "execution_count": 353,
   "metadata": {
    "id": "FIUUR3DWZCuX"
   },
   "outputs": [],
   "source": [
    "def TREC_evalify(query_ranking, top_n=100, run_name=\"RUN_1\"):\n",
    "    TREC_eval = []\n",
    "    for query_id in tqdm(query_ranking.index.values):\n",
    "        for i in range(top_n):\n",
    "            doc   = query_ranking.ranking.loc[query_id][i]\n",
    "            score = query_ranking.scores.loc[query_id][i]\n",
    "            TREC_eval.append([query_id, \"Q0\", doc, i+1, score, run_name])\n",
    "    # Return as pandas dataframe\n",
    "    return pd.DataFrame(TREC_eval)"
   ]
  },
  {
   "cell_type": "markdown",
   "metadata": {
    "id": "2lQb-VN9ZhCN"
   },
   "source": [
    "## Do the trick for BM25 ranking"
   ]
  },
  {
   "cell_type": "code",
   "execution_count": 354,
   "metadata": {
    "colab": {
     "base_uri": "https://localhost:8080/"
    },
    "executionInfo": {
     "elapsed": 34731,
     "status": "ok",
     "timestamp": 1608238194834,
     "user": {
      "displayName": "Marit Hagens",
      "photoUrl": "",
      "userId": "00896192743889461878"
     },
     "user_tz": -60
    },
    "id": "V4O6ezCFZglD",
    "outputId": "50b33bf9-17d4-440d-a4cc-b62961ea4574"
   },
   "outputs": [
    {
     "name": "stdout",
     "output_type": "stream",
     "text": [
      "\n",
      "\tTREC evalify train data\n",
      "    TREC evalify BM25 for the top 10 results\n"
     ]
    },
    {
     "name": "stderr",
     "output_type": "stream",
     "text": [
      "100%|████████████████████████████████████████████████████████████████████████████| 3419/3419 [00:00<00:00, 3511.39it/s]\n"
     ]
    },
    {
     "name": "stdout",
     "output_type": "stream",
     "text": [
      "    TREC evalify BM25 for the top 100 results\n"
     ]
    },
    {
     "name": "stderr",
     "output_type": "stream",
     "text": [
      "100%|█████████████████████████████████████████████████████████████████████████████| 3419/3419 [00:08<00:00, 382.96it/s]\n"
     ]
    }
   ],
   "source": [
    "\n",
    "# Specify the top n's\n",
    "top_n = [10, 100]\n",
    "\n",
    "# Specify run name\n",
    "run_name = \"RUN_1\"\n",
    "\n",
    "# Loop over data types\n",
    "print(f\"\\n\\tTREC evalify {dt} data\")\n",
    "\n",
    "# Loop over the top n's\n",
    "for top in top_n:\n",
    "    print(f\"    TREC evalify BM25 for the top {top} results\")\n",
    "\n",
    "    # Specify data paths\n",
    "    input_path = f'../Data/results/ranking.bm25.csv'\n",
    "    output_path = f'../Data/results/trec.eval.top{top}.bm25.csv'\n",
    "\n",
    "    # Load in data\n",
    "    query_ranking         = pd.read_csv(input_path, sep=',', index_col=0, header=0 )\n",
    "    query_ranking.ranking = query_ranking.ranking.apply(eval)\n",
    "    query_ranking.scores  = query_ranking.scores.apply(eval)\n",
    "\n",
    "    # TREC evalify\n",
    "    TREC_eval = TREC_evalify(query_ranking, top, run_name)\n",
    "\n",
    "    # Save TREC eval data (Tab seperated because qrel file from paper is tab seperated)\n",
    "    TREC_eval.to_csv(output_path, sep='\\t', index=None, header=None)"
   ]
  },
  {
   "cell_type": "markdown",
   "metadata": {},
   "source": [
    "## Save trec ranking files"
   ]
  },
  {
   "cell_type": "code",
   "execution_count": null,
   "metadata": {
    "id": "Bae92f7pFyCN"
   },
   "outputs": [
    {
     "name": "stdout",
     "output_type": "stream",
     "text": [
      "\tTREC evalify reranking for the top 10 results\n",
      "   TREC evalify SPC fairness contraint rerankings\n",
      "TREC evalifying e=0\n"
     ]
    },
    {
     "name": "stderr",
     "output_type": "stream",
     "text": [
      "100%|████████████████████████████████████████████████████████████████████████████| 3419/3419 [00:00<00:00, 3572.54it/s]\n"
     ]
    },
    {
     "name": "stdout",
     "output_type": "stream",
     "text": [
      "TREC evalifying e=0.01\n"
     ]
    },
    {
     "name": "stderr",
     "output_type": "stream",
     "text": [
      "100%|████████████████████████████████████████████████████████████████████████████| 3419/3419 [00:01<00:00, 3198.31it/s]\n"
     ]
    },
    {
     "name": "stdout",
     "output_type": "stream",
     "text": [
      "TREC evalifying e=0.1\n"
     ]
    },
    {
     "name": "stderr",
     "output_type": "stream",
     "text": [
      "100%|████████████████████████████████████████████████████████████████████████████| 3419/3419 [00:00<00:00, 3602.72it/s]\n"
     ]
    },
    {
     "name": "stdout",
     "output_type": "stream",
     "text": [
      "TREC evalifying e=0.25\n"
     ]
    },
    {
     "name": "stderr",
     "output_type": "stream",
     "text": [
      "100%|████████████████████████████████████████████████████████████████████████████| 3419/3419 [00:01<00:00, 3381.98it/s]\n"
     ]
    },
    {
     "name": "stdout",
     "output_type": "stream",
     "text": [
      "TREC evalifying e=0.5\n"
     ]
    },
    {
     "name": "stderr",
     "output_type": "stream",
     "text": [
      "100%|████████████████████████████████████████████████████████████████████████████| 3419/3419 [00:01<00:00, 3306.60it/s]\n"
     ]
    },
    {
     "name": "stdout",
     "output_type": "stream",
     "text": [
      "TREC evalifying e=0.75\n"
     ]
    },
    {
     "name": "stderr",
     "output_type": "stream",
     "text": [
      "100%|████████████████████████████████████████████████████████████████████████████| 3419/3419 [00:01<00:00, 3306.82it/s]\n"
     ]
    },
    {
     "name": "stdout",
     "output_type": "stream",
     "text": [
      "TREC evalifying e=0.9\n"
     ]
    },
    {
     "name": "stderr",
     "output_type": "stream",
     "text": [
      "100%|████████████████████████████████████████████████████████████████████████████| 3419/3419 [00:01<00:00, 3303.62it/s]\n"
     ]
    },
    {
     "name": "stdout",
     "output_type": "stream",
     "text": [
      "TREC evalifying e=0.99\n"
     ]
    },
    {
     "name": "stderr",
     "output_type": "stream",
     "text": [
      "100%|████████████████████████████████████████████████████████████████████████████| 3419/3419 [00:00<00:00, 3446.69it/s]\n"
     ]
    }
   ],
   "source": [
    "# Specify the top n's\n",
    "top_n = [10, 100]\n",
    "# Specify the fairness constraint types\n",
    "types   = ['spc', 'dic']\n",
    "# Specify the epsilon values\n",
    "epsilon = [0, 0.01, 0.1, 0.25, 0.5, 0.75, 0.9, 0.99, 1]\n",
    "    # Loop over the top n's\n",
    "for top in top_n:\n",
    "        print(f\"\\tTREC evalify reranking for the top {top} results\")\n",
    "\n",
    "        # Loop over fairness constraint types\n",
    "        for t in types:\n",
    "            print(f\"   TREC evalify {t.upper()} fairness contraint rerankings\")\n",
    "            for i, e in enumerate(epsilon):\n",
    "                print(f\"TREC evalifying e={e}\")\n",
    "\n",
    "                ####################### Specify reranking data paths #######################\n",
    "                input_path = f\"../Data/results/{t}/reranking.top{top}.{t}.e{e}.train.csv\"\n",
    "\n",
    "\n",
    "                # Load in data\n",
    "                query_ranking         = pd.read_csv(input_path, sep=',', index_col=0, header=0 )\n",
    "                query_ranking.ranking = query_ranking.ranking.apply(eval)\n",
    "                query_ranking.scores  = query_ranking.scores.apply(eval)\n",
    "\n",
    "                # TREC evalify\n",
    "                TREC_eval = TREC_evalify(query_ranking, top, run_name)\n",
    "\n",
    "                # Save TREC eval data (Tab seperated because qrel file from paper is tab seperated)\n",
    "                TREC_eval.to_csv(output_path, sep='\\t', index=None, header=None)\n",
    "                "
   ]
  },
  {
   "cell_type": "markdown",
   "metadata": {},
   "source": [
    "### Calculate trec results"
   ]
  },
  {
   "cell_type": "code",
   "execution_count": 356,
   "metadata": {},
   "outputs": [],
   "source": [
    "relevance_document = r\"..\\Data\\nfcorpus\\train.2-1-0.qrel\""
   ]
  },
  {
   "cell_type": "code",
   "execution_count": 357,
   "metadata": {},
   "outputs": [],
   "source": [
    "eval_results = {\n",
    "    'map':{\n",
    "        10: {\n",
    "            'spc':[],\n",
    "            'dic':[],\n",
    "        },\n",
    "        100: {\n",
    "            'spc':[],\n",
    "            'dic':[],        \n",
    "        }        \n",
    "    },\n",
    "    'ndcg': {\n",
    "        10: {\n",
    "        'spc':[],\n",
    "        'dic':[],\n",
    "       },\n",
    "        100: {\n",
    "        'spc':[],\n",
    "        'dic':[],\n",
    "        }\n",
    "    }\n",
    "}"
   ]
  },
  {
   "cell_type": "code",
   "execution_count": 360,
   "metadata": {},
   "outputs": [
    {
     "name": "stdout",
     "output_type": "stream",
     "text": [
      "TREC evalifying e=0\n",
      "TREC evalifying e=0.01\n",
      "TREC evalifying e=0.1\n",
      "TREC evalifying e=0.25\n",
      "TREC evalifying e=0.5\n",
      "TREC evalifying e=0.75\n",
      "TREC evalifying e=0.9\n",
      "TREC evalifying e=0.99\n",
      "TREC evalifying e=1\n",
      "TREC evalifying e=0\n",
      "TREC evalifying e=0.01\n",
      "TREC evalifying e=0.1\n",
      "TREC evalifying e=0.25\n",
      "TREC evalifying e=0.5\n",
      "TREC evalifying e=0.75\n",
      "TREC evalifying e=0.9\n",
      "TREC evalifying e=0.99\n",
      "TREC evalifying e=1\n",
      "TREC evalifying e=0\n",
      "TREC evalifying e=0.01\n",
      "TREC evalifying e=0.1\n",
      "TREC evalifying e=0.25\n",
      "TREC evalifying e=0.5\n",
      "TREC evalifying e=0.75\n",
      "TREC evalifying e=0.9\n",
      "TREC evalifying e=0.99\n",
      "TREC evalifying e=1\n",
      "TREC evalifying e=0\n",
      "TREC evalifying e=0.01\n",
      "TREC evalifying e=0.1\n",
      "TREC evalifying e=0.25\n",
      "TREC evalifying e=0.5\n",
      "TREC evalifying e=0.75\n",
      "TREC evalifying e=0.9\n",
      "TREC evalifying e=0.99\n",
      "TREC evalifying e=1\n"
     ]
    }
   ],
   "source": [
    "# Specify the top n's\n",
    "top_n = [10, 100]\n",
    "# Specify the fairness constraint types\n",
    "types   = ['spc', 'dic']\n",
    "# Specify the epsilon values\n",
    "epsilon = [0, 0.01, 0.1, 0.25, 0.5, 0.75, 0.9, 0.99, 1]\n",
    "    # Loop over the top n's\n",
    "for top in top_n:\n",
    "    # Loop over fairness constraint types\n",
    "    for t in types:\n",
    "        for i, e in enumerate(epsilon):\n",
    "            print(f\"TREC evalifying e={e}\")\n",
    "\n",
    "            input_path = f\"../Data/results/{t}/reranking.top{top}.{t}.e{e}.{dt}.csv\"\n",
    "            output_path = f\"../Data/results/{t}/trec.eval.top{top}.{t}.e{e}.{dt}.csv\"\n",
    "\n",
    "            # calculate scores\n",
    "            command = fr'../trec_eval.exe -m map {relevance_document} {output_path}'\n",
    "            output = str(run_program(command))\n",
    "            eval_results[\"map\"][top][t].append(float(re.findall(\"\\d+\\.\\d+\", output)[0]))\n",
    "            command = fr'../trec_eval.exe -m ndcg {relevance_document} {output_path}'\n",
    "            output = str(run_program(command))\n",
    "            eval_results[\"ndcg\"][top][t].append(float(re.findall(\"\\d+\\.\\d+\", output)[0]))"
   ]
  },
  {
   "cell_type": "markdown",
   "metadata": {},
   "source": [
    "## BM25"
   ]
  },
  {
   "cell_type": "code",
   "execution_count": 361,
   "metadata": {},
   "outputs": [],
   "source": [
    "# Specify data paths\n",
    "input_path = f'../Data/results/ranking.bm25.csv'\n",
    "output_path = f'../Data/results/trec.eval.top10.bm25.csv'\n",
    "\n",
    "# calculate scores\n",
    "command = fr'../trec_eval.exe -m map {relevance_document} {output_path}'\n",
    "output = str(run_program(command))\n",
    "top_10_bm25_map = (float(re.findall(\"\\d+\\.\\d+\", output)[0]))    \n",
    "command = fr'../trec_eval.exe -m ndcg {relevance_document} {output_path}'\n",
    "output = str(run_program(command))\n",
    "top_10_bm25_ndcg =(float(re.findall(\"\\d+\\.\\d+\", output)[0]))    \n",
    "\n",
    "output_path = f'../Data/results/trec.eval.top100.bm25.csv'\n",
    "# calculate scores\n",
    "command = fr'../trec_eval.exe -m map {relevance_document} {output_path}'\n",
    "output = str(run_program(command))\n",
    "top_100_bm25_map = (float(re.findall(\"\\d+\\.\\d+\", output)[0]))    \n",
    "command = fr'../trec_eval.exe -m ndcg {relevance_document} {output_path}'\n",
    "output = str(run_program(command))\n",
    "top_100_bm25_ndcg =(float(re.findall(\"\\d+\\.\\d+\", output)[0]))    "
   ]
  },
  {
   "cell_type": "code",
   "execution_count": null,
   "metadata": {},
   "outputs": [],
   "source": []
  },
  {
   "cell_type": "code",
   "execution_count": 362,
   "metadata": {},
   "outputs": [
    {
     "name": "stdout",
     "output_type": "stream",
     "text": [
      "{10: {'spc': [0.0708, 0.0709, 0.071, 0.0709, 0.07, 0.0705, 0.0686, 0.0689, 0.069], 'dic': [0.0708, 0.0708, 0.0707, 0.0706, 0.0699, 0.0702, 0.0691, 0.0691, 0.0695]}, 100: {'spc': [0.122, 0.1219, 0.1222, 0.1224, 0.1227, 0.123, 0.1229, 0.1227, 0.123], 'dic': [0.122, 0.122, 0.1221, 0.1226, 0.1226, 0.1226, 0.1227, 0.1234, 0.1231]}}\n"
     ]
    }
   ],
   "source": [
    "print(eval_results['map'])"
   ]
  },
  {
   "cell_type": "code",
   "execution_count": 363,
   "metadata": {},
   "outputs": [],
   "source": [
    "graph_colors = {\n",
    "    'spc100': 'blue',\n",
    "    'spc10':'cyan',\n",
    "    'dic100':'red',\n",
    "    'dic10':'darkmagenta',\n",
    "    '1spc100': 'blue',\n",
    "    '1spc10':'blue',\n",
    "    '1dic100':'red',\n",
    "    '1dic10':'red',\n",
    "\n",
    "}"
   ]
  },
  {
   "cell_type": "code",
   "execution_count": 366,
   "metadata": {
    "scrolled": false
   },
   "outputs": [
    {
     "data": {
      "image/png": "[encoded data removed]",
      "text/plain": [
       "<Figure size 432x288 with 1 Axes>"
      ]
     },
     "metadata": {
      "needs_background": "light"
     },
     "output_type": "display_data"
    },
    {
     "data": {
      "image/png": "[encoded data removed]",
      "text/plain": [
       "<Figure size 432x288 with 1 Axes>"
      ]
     },
     "metadata": {
      "needs_background": "light"
     },
     "output_type": "display_data"
    }
   ],
   "source": [
    "for metric in eval_results:\n",
    "    for rank_nmb in eval_results[metric]:\n",
    "        for type_reranking in eval_results[metric][rank_nmb]:\n",
    "            values = eval_results[metric][rank_nmb][type_reranking]\n",
    "            plt.plot(values,'-', c=graph_colors[f'{type_reranking}{rank_nmb}'], label=f\"{type_reranking} top {rank_nmb}\", alpha=1)\n",
    "            plt.scatter(y=values,c=graph_colors[f'1{type_reranking}{rank_nmb}'], x=range(len(epsilon))[:len(values)], alpha=0.2,\n",
    "            s = 30,marker= \"o\")\n",
    "    \n",
    "    #bm25 baseline\n",
    "    if metric is 'map':\n",
    "        plt.plot([top_100_bm25_map]*len(epsilon),'-', c='forestgreen', label=f\"bm25 top 100\")\n",
    "        plt.scatter(y=[top_100_bm25_map]*len(epsilon),c='forestgreen', x=range(len(epsilon))[:len(epsilon)],\n",
    "                   s = 20,marker= \"o\")\n",
    "        plt.plot([top_10_bm25_map]*len(epsilon),'-', c='forestgreen', label=f\"bm25 top 100\")\n",
    "        plt.scatter(y=[top_10_bm25_map]*len(epsilon),c='forestgreen', x=range(len(epsilon))[:len(epsilon)],\n",
    "                   s = 20,marker= \"o\")\n",
    "    elif metric is 'ndcg':\n",
    "        plt.plot([top_100_bm25_ndcg]*len(epsilon),'-', c='forestgreen', label=f\"bm25 top 100\")\n",
    "        plt.scatter(y=[top_100_bm25_ndcg]*len(epsilon),c='forestgreen', x=range(len(epsilon))[:len(epsilon)],\n",
    "                   s = 20,marker= \"o\")\n",
    "        plt.plot([top_10_bm25_ndcg]*len(epsilon),'-', c='forestgreen', label=f\"bm25 top 100\")\n",
    "        plt.scatter(y=[top_10_bm25_ndcg]*len(epsilon),c='forestgreen', x=range(len(epsilon))[:len(epsilon)],\n",
    "                   s = 20,marker= \"o\")\n",
    "\n",
    "    plt.grid(linestyle='-', linewidth=1)\n",
    "    plt.title(f'The {metric} score ')\n",
    "    plt.xticks(range(len(epsilon)),labels=epsilon)\n",
    "    plt.yscale(\"linear\")\n",
    "    plt.xlabel('epsilon')\n",
    "    plt.ylabel('score')\n",
    "    plt.legend()\n",
    "    plt.show()"
   ]
  },
  {
   "cell_type": "markdown",
   "metadata": {},
   "source": [
    "### "
   ]
  },
  {
   "cell_type": "markdown",
   "metadata": {},
   "source": [
    "### Splitten top 10 of top 100"
   ]
  },
  {
   "cell_type": "code",
   "execution_count": 389,
   "metadata": {},
   "outputs": [],
   "source": [
    "graph_colors = {\n",
    "    'spc100': 'blue',\n",
    "    'spc10':'blue',\n",
    "    'dic100':'red',\n",
    "    'dic10':'red',\n",
    "    '1spc100': 'blue',\n",
    "    '1spc10':'blue',\n",
    "    '1dic100':'red',\n",
    "    '1dic10':'red',\n",
    "\n",
    "}"
   ]
  },
  {
   "cell_type": "code",
   "execution_count": 398,
   "metadata": {
    "scrolled": true
   },
   "outputs": [
    {
     "data": {
      "image/png": "[encoded data removed]",
      "text/plain": [
       "<Figure size 756x900 with 4 Axes>"
      ]
     },
     "metadata": {
      "needs_background": "light"
     },
     "output_type": "display_data"
    }
   ],
   "source": [
    "fig, axs = plt.subplots(2, 2)\n",
    "\n",
    "fig.set_size_inches(10.5, 12.5)\n",
    "# axs[0, 0].plot(x, y)\n",
    "# axs[0, 0].set_title('Axis [0,0]')\n",
    "# axs[0, 1].plot(x, y, 'tab:orange')\n",
    "# axs[0, 1].set_title('Axis [0,1]')\n",
    "# axs[1, 0].plot(x, -y, 'tab:green')\n",
    "# axs[1, 0].set_title('Axis [1,0]')\n",
    "# axs[1, 1].plot(x, -y, 'tab:red')\n",
    "# axs[1, 1].set_title('Axis [1,1]')\n",
    "\n",
    "for row, metric in enumerate(eval_results):\n",
    "    for col, rank_nmb in enumerate(eval_results[metric]):\n",
    "        for type_reranking in eval_results[metric][rank_nmb]:\n",
    "            values = eval_results[metric][rank_nmb][type_reranking]\n",
    "            axs[row, col].plot(values,'-', c=graph_colors[f'{type_reranking}{rank_nmb}'], label=f\"{type_reranking.upper()} top {rank_nmb}\", alpha=1)\n",
    "            axs[row, col].scatter(y=values,c=graph_colors[f'1{type_reranking}{rank_nmb}'], x=range(len(epsilon))[:len(values)], alpha=0.5,\n",
    "            s = 15,marker= \"o\")\n",
    "    \n",
    "        #bm25 baseline\n",
    "        if metric is 'map':\n",
    "            if rank_nmb is 100:\n",
    "                axs[row, col].plot([top_100_bm25_map]*len(epsilon),'-', c='forestgreen', label=f\"BM25 top 100\")\n",
    "#                 axs[row, col].scatter(y=[top_100_bm25_map]*len(epsilon),c='forestgreen', x=range(len(epsilon))[:len(epsilon)],\n",
    "#                        s = 20,marker= \"o\")\n",
    "            else:\n",
    "                axs[row, col].plot([top_10_bm25_map]*len(epsilon),'-', c='forestgreen', label=f\"BM25 top 100\")\n",
    "#                 axs[row, col].scatter(y=[top_10_bm25_map]*len(epsilon),c='forestgreen', x=range(len(epsilon))[:len(epsilon)],\n",
    "#                        s = 20,marker= \"o\")\n",
    "        elif metric is 'ndcg':\n",
    "            if rank_nmb is 100:\n",
    "                axs[row, col].plot([top_100_bm25_ndcg]*len(epsilon),'-', c='forestgreen', label=f\"BM25 top 100\")\n",
    "#                 axs[row, col].scatter(y=[top_100_bm25_ndcg]*len(epsilon),c='forestgreen', x=range(len(epsilon))[:len(epsilon)],\n",
    "#                            s = 20,marker= \"o\")\n",
    "            else:\n",
    "                axs[row, col].plot([top_10_bm25_ndcg]*len(epsilon),'-', c='forestgreen', label=f\"BM25 top 100\")\n",
    "#                 axs[row, col].scatter(y=[top_10_bm25_ndcg]*len(epsilon),c='forestgreen', x=range(len(epsilon))[:len(epsilon)],\n",
    "#                        s = 20,marker= \"o\")\n",
    "\n",
    "        axs[row, col].grid(linestyle='-', linewidth=1)\n",
    "        axs[row, col].set_title(f'The {metric.up} score ')\n",
    "        axs[row, col].set_xticks(range(len(epsilon)))\n",
    "        axs[row, col].set_xticklabels(epsilon)\n",
    "        axs[row, col].set_xlabel('epsilon')\n",
    "        axs[row, col].set_ylabel('score')\n",
    "        axs[row, col].legend()\n",
    "plt.show()"
   ]
  },
  {
   "cell_type": "code",
   "execution_count": 365,
   "metadata": {},
   "outputs": [
    {
     "data": {
      "text/plain": [
       "{'map': {10: {'spc': [0.0708,\n",
       "    0.0709,\n",
       "    0.071,\n",
       "    0.0709,\n",
       "    0.07,\n",
       "    0.0705,\n",
       "    0.0686,\n",
       "    0.0689,\n",
       "    0.069],\n",
       "   'dic': [0.0708,\n",
       "    0.0708,\n",
       "    0.0707,\n",
       "    0.0706,\n",
       "    0.0699,\n",
       "    0.0702,\n",
       "    0.0691,\n",
       "    0.0691,\n",
       "    0.0695]},\n",
       "  100: {'spc': [0.122,\n",
       "    0.1219,\n",
       "    0.1222,\n",
       "    0.1224,\n",
       "    0.1227,\n",
       "    0.123,\n",
       "    0.1229,\n",
       "    0.1227,\n",
       "    0.123],\n",
       "   'dic': [0.122,\n",
       "    0.122,\n",
       "    0.1221,\n",
       "    0.1226,\n",
       "    0.1226,\n",
       "    0.1226,\n",
       "    0.1227,\n",
       "    0.1234,\n",
       "    0.1231]}},\n",
       " 'ndcg': {10: {'spc': [0.1346,\n",
       "    0.1349,\n",
       "    0.1349,\n",
       "    0.1347,\n",
       "    0.1336,\n",
       "    0.1344,\n",
       "    0.1304,\n",
       "    0.1312,\n",
       "    0.1318],\n",
       "   'dic': [0.1346,\n",
       "    0.1346,\n",
       "    0.1345,\n",
       "    0.1343,\n",
       "    0.1339,\n",
       "    0.1333,\n",
       "    0.1316,\n",
       "    0.1312,\n",
       "    0.1315]},\n",
       "  100: {'spc': [0.2473,\n",
       "    0.2474,\n",
       "    0.2474,\n",
       "    0.2479,\n",
       "    0.2488,\n",
       "    0.2492,\n",
       "    0.249,\n",
       "    0.2491,\n",
       "    0.2494],\n",
       "   'dic': [0.2473,\n",
       "    0.2474,\n",
       "    0.2476,\n",
       "    0.2482,\n",
       "    0.248,\n",
       "    0.2487,\n",
       "    0.2489,\n",
       "    0.2503,\n",
       "    0.2496]}}}"
      ]
     },
     "execution_count": 365,
     "metadata": {},
     "output_type": "execute_result"
    }
   ],
   "source": [
    "eval_results"
   ]
  },
  {
   "cell_type": "code",
   "execution_count": null,
   "metadata": {},
   "outputs": [],
   "source": []
  },
  {
   "cell_type": "code",
   "execution_count": null,
   "metadata": {},
   "outputs": [],
   "source": []
  }
 ],
 "metadata": {
  "colab": {
   "authorship_tag": "ABX9TyPlmwDE1SfUZ7YRN/0NxYfO",
   "name": "TREC_evalify_ranking.ipynb",
   "provenance": []
  },
  "kernelspec": {
   "display_name": "Python 3",
   "language": "python",
   "name": "python3"
  },
  "language_info": {
   "codemirror_mode": {
    "name": "ipython",
    "version": 3
   },
   "file_extension": ".py",
   "mimetype": "text/x-python",
   "name": "python",
   "nbconvert_exporter": "python",
   "pygments_lexer": "ipython3",
   "version": "3.7.9"
  }
 },
 "nbformat": 4,
 "nbformat_minor": 1
}
